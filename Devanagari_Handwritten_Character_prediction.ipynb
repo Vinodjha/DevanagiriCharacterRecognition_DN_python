{
 "cells": [
  {
   "cell_type": "code",
   "execution_count": 1,
   "metadata": {},
   "outputs": [
    {
     "data": {
      "text/plain": [
       "'2.3.1'"
      ]
     },
     "execution_count": 1,
     "metadata": {},
     "output_type": "execute_result"
    }
   ],
   "source": [
    "import numpy as np\n",
    "from array import *\n",
    "import copy\n",
    "import random\n",
    "import pandas as pd\n",
    "import seaborn as sns\n",
    "from keras.preprocessing.image import ImageDataGenerator\n",
    "import tensorflow as tf\n",
    "import matplotlib.pyplot as plt\n",
    "import cv2\n",
    "from skimage import io\n",
    "tf.__version__"
   ]
  },
  {
   "cell_type": "markdown",
   "metadata": {},
   "source": [
    "## data processing"
   ]
  },
  {
   "cell_type": "code",
   "execution_count": 2,
   "metadata": {},
   "outputs": [],
   "source": [
    "from keras.preprocessing.image import ImageDataGenerator"
   ]
  },
  {
   "cell_type": "code",
   "execution_count": 3,
   "metadata": {},
   "outputs": [
    {
     "name": "stdout",
     "output_type": "stream",
     "text": [
      "Found 73600 images belonging to 46 classes.\n"
     ]
    }
   ],
   "source": [
    "train_datagen = ImageDataGenerator(rescale = 1./255, shear_range = 0.2, zoom_range = 0.2,\n",
    "                                   horizontal_flip = True)\n",
    "\n",
    "training_data = train_datagen.flow_from_directory('data/Train/', target_size = (32, 32), class_mode = 'categorical',\n",
    "                                                  batch_size = 32)"
   ]
  },
  {
   "cell_type": "code",
   "execution_count": 4,
   "metadata": {},
   "outputs": [
    {
     "name": "stdout",
     "output_type": "stream",
     "text": [
      "Found 13800 images belonging to 46 classes.\n"
     ]
    }
   ],
   "source": [
    "test_datagen = ImageDataGenerator(rescale = 1./255)\n",
    "\n",
    "test_data = test_datagen.flow_from_directory('data/Test/', target_size = (32, 32), class_mode = 'categorical',\n",
    "                                             batch_size = 32)"
   ]
  },
  {
   "cell_type": "code",
   "execution_count": 5,
   "metadata": {},
   "outputs": [
    {
     "name": "stdout",
     "output_type": "stream",
     "text": [
      "Found 4600 images belonging to 46 classes.\n"
     ]
    }
   ],
   "source": [
    "valid_datagen = ImageDataGenerator(rescale = 1./255)\n",
    "valid_data = valid_datagen.flow_from_directory('data/Valid/', target_size = (32, 32), class_mode = 'categorical',\n",
    "                                             batch_size = 32)"
   ]
  },
  {
   "cell_type": "markdown",
   "metadata": {},
   "source": [
    "## model building"
   ]
  },
  {
   "cell_type": "code",
   "execution_count": 6,
   "metadata": {},
   "outputs": [],
   "source": [
    "classifier = tf.keras.models.Sequential()"
   ]
  },
  {
   "cell_type": "code",
   "execution_count": 7,
   "metadata": {},
   "outputs": [],
   "source": [
    "classifier.add(tf.keras.layers.Conv2D(filters = 32, kernel_size = 3, padding = 'same', activation = 'relu',\n",
    "                                      input_shape=(32, 32, 3)))\n",
    "classifier.add(tf.keras.layers.MaxPool2D(pool_size = 2, strides = 2, padding = 'same'))\n",
    "classifier.add(tf.keras.layers.Conv2D(filters = 64, kernel_size = 3, padding = 'same', activation = 'relu',))\n",
    "classifier.add(tf.keras.layers.MaxPool2D(pool_size = 2, strides = 2, padding = 'same'))\n",
    "classifier.add(tf.keras.layers.Conv2D(filters = 64, kernel_size = 3, padding = 'same', activation = 'relu',))\n",
    "classifier.add(tf.keras.layers.MaxPool2D(pool_size = 2, strides = 2, padding = 'same'))"
   ]
  },
  {
   "cell_type": "code",
   "execution_count": 8,
   "metadata": {},
   "outputs": [],
   "source": [
    "classifier.add(tf.keras.layers.Flatten())"
   ]
  },
  {
   "cell_type": "code",
   "execution_count": 16,
   "metadata": {},
   "outputs": [],
   "source": [
    "classifier.add(tf.keras.layers.Dense(units = 512, activation = 'relu'))\n",
    "classifier.add(tf.keras.layers.Dropout(0.3))\n",
    "classifier.add(tf.keras.layers.Dense(units = 1024, activation = 'relu'))\n",
    "classifier.add(tf.keras.layers.Dropout(0.5))\n",
    "classifier.add(tf.keras.layers.Dense(units = 500, activation = 'relu'))\n",
    "classifier.add(tf.keras.layers.Dense(units = 46, activation = 'softmax'))"
   ]
  },
  {
   "cell_type": "code",
   "execution_count": 17,
   "metadata": {},
   "outputs": [],
   "source": [
    "classifier.compile(optimizer = 'adam', loss = 'categorical_crossentropy', metrics = ['accuracy'])"
   ]
  },
  {
   "cell_type": "code",
   "execution_count": 18,
   "metadata": {},
   "outputs": [
    {
     "name": "stdout",
     "output_type": "stream",
     "text": [
      "Epoch 1/50\n",
      "1000/1000 [==============================] - 66s 66ms/step - loss: 1.3439 - accuracy: 0.6056 - val_loss: 0.7603 - val_accuracy: 0.7611\n",
      "Epoch 2/50\n",
      "1000/1000 [==============================] - 69s 69ms/step - loss: 0.4345 - accuracy: 0.8655 - val_loss: 0.7093 - val_accuracy: 0.7870\n",
      "Epoch 3/50\n",
      "1000/1000 [==============================] - 70s 70ms/step - loss: 0.3121 - accuracy: 0.9041 - val_loss: 0.4527 - val_accuracy: 0.8650\n",
      "Epoch 4/50\n",
      "1000/1000 [==============================] - 76s 76ms/step - loss: 0.2559 - accuracy: 0.9199 - val_loss: 0.3661 - val_accuracy: 0.8898\n",
      "Epoch 5/50\n",
      "1000/1000 [==============================] - 84s 84ms/step - loss: 0.2143 - accuracy: 0.9351 - val_loss: 0.3964 - val_accuracy: 0.8922\n",
      "Epoch 6/50\n",
      "1000/1000 [==============================] - 83s 83ms/step - loss: 0.2028 - accuracy: 0.9392 - val_loss: 0.3816 - val_accuracy: 0.8878\n",
      "Epoch 7/50\n",
      "1000/1000 [==============================] - 83s 83ms/step - loss: 0.1845 - accuracy: 0.9440 - val_loss: 0.3726 - val_accuracy: 0.8885\n",
      "Epoch 8/50\n",
      "1000/1000 [==============================] - 76s 76ms/step - loss: 0.1714 - accuracy: 0.9492 - val_loss: 0.3606 - val_accuracy: 0.9030\n",
      "Epoch 9/50\n",
      "1000/1000 [==============================] - 81s 81ms/step - loss: 0.1590 - accuracy: 0.9538 - val_loss: 0.3694 - val_accuracy: 0.9039\n",
      "Epoch 10/50\n",
      "1000/1000 [==============================] - 84s 84ms/step - loss: 0.1556 - accuracy: 0.9530 - val_loss: 0.3112 - val_accuracy: 0.9154\n",
      "Epoch 11/50\n",
      "1000/1000 [==============================] - 78s 78ms/step - loss: 0.1468 - accuracy: 0.9560 - val_loss: 0.2768 - val_accuracy: 0.9211\n",
      "Epoch 12/50\n",
      "1000/1000 [==============================] - 79s 79ms/step - loss: 0.1318 - accuracy: 0.9611 - val_loss: 0.3879 - val_accuracy: 0.9085\n",
      "Epoch 13/50\n",
      "1000/1000 [==============================] - 87s 87ms/step - loss: 0.1421 - accuracy: 0.9580 - val_loss: 0.3579 - val_accuracy: 0.9065TA: 0s - loss: 0.1419 - \n",
      "Epoch 14/50\n",
      "1000/1000 [==============================] - 79s 79ms/step - loss: 0.1299 - accuracy: 0.9613 - val_loss: 0.3373 - val_accuracy: 0.9150\n",
      "Epoch 15/50\n",
      "1000/1000 [==============================] - 83s 83ms/step - loss: 0.1258 - accuracy: 0.9625 - val_loss: 0.3701 - val_accuracy: 0.9048\n",
      "Epoch 16/50\n",
      "1000/1000 [==============================] - 85s 85ms/step - loss: 0.1313 - accuracy: 0.9634 - val_loss: 0.2794 - val_accuracy: 0.9180\n",
      "Epoch 17/50\n",
      "1000/1000 [==============================] - 77s 77ms/step - loss: 0.1193 - accuracy: 0.9657 - val_loss: 0.3716 - val_accuracy: 0.8989\n",
      "Epoch 18/50\n",
      "1000/1000 [==============================] - 90s 90ms/step - loss: 0.1142 - accuracy: 0.9663 - val_loss: 0.3091 - val_accuracy: 0.9157\n",
      "Epoch 19/50\n",
      "1000/1000 [==============================] - 122s 122ms/step - loss: 0.1164 - accuracy: 0.9667 - val_loss: 0.3991 - val_accuracy: 0.8917\n",
      "Epoch 20/50\n",
      "1000/1000 [==============================] - 123s 123ms/step - loss: 0.1144 - accuracy: 0.9667 - val_loss: 0.2784 - val_accuracy: 0.9254\n",
      "Epoch 21/50\n",
      "1000/1000 [==============================] - 122s 122ms/step - loss: 0.1063 - accuracy: 0.9695 - val_loss: 0.3736 - val_accuracy: 0.9080\n",
      "Epoch 22/50\n",
      "1000/1000 [==============================] - 119s 119ms/step - loss: 0.1115 - accuracy: 0.9673 - val_loss: 0.3209 - val_accuracy: 0.9285\n",
      "Epoch 23/50\n",
      "1000/1000 [==============================] - 120s 120ms/step - loss: 0.1085 - accuracy: 0.9694 - val_loss: 0.3229 - val_accuracy: 0.9220\n",
      "Epoch 24/50\n",
      "1000/1000 [==============================] - 122s 122ms/step - loss: 0.1043 - accuracy: 0.9696 - val_loss: 0.3350 - val_accuracy: 0.9243\n",
      "Epoch 25/50\n",
      "1000/1000 [==============================] - 122s 122ms/step - loss: 0.1099 - accuracy: 0.9690 - val_loss: 0.3589 - val_accuracy: 0.9120\n",
      "Epoch 26/50\n",
      "1000/1000 [==============================] - 122s 122ms/step - loss: 0.0991 - accuracy: 0.9717 - val_loss: 0.3523 - val_accuracy: 0.9137\n",
      "Epoch 27/50\n",
      "1000/1000 [==============================] - 121s 121ms/step - loss: 0.1062 - accuracy: 0.9697 - val_loss: 0.3467 - val_accuracy: 0.9176\n",
      "Epoch 28/50\n",
      "1000/1000 [==============================] - 122s 122ms/step - loss: 0.1057 - accuracy: 0.9709 - val_loss: 0.3925 - val_accuracy: 0.9124\n",
      "Epoch 29/50\n",
      "1000/1000 [==============================] - 123s 123ms/step - loss: 0.1049 - accuracy: 0.9706 - val_loss: 0.2449 - val_accuracy: 0.9402\n",
      "Epoch 30/50\n",
      "1000/1000 [==============================] - 121s 121ms/step - loss: 0.1020 - accuracy: 0.9712 - val_loss: 0.3672 - val_accuracy: 0.9174\n",
      "Epoch 31/50\n",
      "1000/1000 [==============================] - 121s 121ms/step - loss: 0.0958 - accuracy: 0.9727 - val_loss: 0.2800 - val_accuracy: 0.9285\n",
      "Epoch 32/50\n",
      "1000/1000 [==============================] - 122s 122ms/step - loss: 0.1022 - accuracy: 0.9717 - val_loss: 0.2955 - val_accuracy: 0.9293\n",
      "Epoch 33/50\n",
      "1000/1000 [==============================] - 122s 122ms/step - loss: 0.0971 - accuracy: 0.9733 - val_loss: 0.2826 - val_accuracy: 0.9280\n",
      "Epoch 34/50\n",
      "1000/1000 [==============================] - 120s 120ms/step - loss: 0.0926 - accuracy: 0.9737 - val_loss: 0.3137 - val_accuracy: 0.9313\n",
      "Epoch 35/50\n",
      "1000/1000 [==============================] - 122s 122ms/step - loss: 0.1032 - accuracy: 0.9717 - val_loss: 0.3598 - val_accuracy: 0.9198\n",
      "Epoch 36/50\n",
      "1000/1000 [==============================] - 121s 121ms/step - loss: 0.0934 - accuracy: 0.9740 - val_loss: 0.3080 - val_accuracy: 0.9296\n",
      "Epoch 37/50\n",
      "1000/1000 [==============================] - 122s 122ms/step - loss: 0.1088 - accuracy: 0.9715 - val_loss: 0.2906 - val_accuracy: 0.9274\n",
      "Epoch 38/50\n",
      "1000/1000 [==============================] - 120s 120ms/step - loss: 0.0883 - accuracy: 0.9760 - val_loss: 0.3789 - val_accuracy: 0.9178\n",
      "Epoch 39/50\n",
      "1000/1000 [==============================] - 123s 123ms/step - loss: 0.0990 - accuracy: 0.9719 - val_loss: 0.3419 - val_accuracy: 0.9187\n",
      "Epoch 40/50\n",
      "1000/1000 [==============================] - 117s 117ms/step - loss: 0.0964 - accuracy: 0.9732 - val_loss: 0.2866 - val_accuracy: 0.9346\n",
      "Epoch 41/50\n",
      "1000/1000 [==============================] - 121s 121ms/step - loss: 0.0989 - accuracy: 0.9734 - val_loss: 0.3097 - val_accuracy: 0.9215\n",
      "Epoch 42/50\n",
      "1000/1000 [==============================] - 121s 121ms/step - loss: 0.1005 - accuracy: 0.9721 - val_loss: 0.3052 - val_accuracy: 0.9243\n",
      "Epoch 43/50\n",
      "1000/1000 [==============================] - 120s 120ms/step - loss: 0.0904 - accuracy: 0.9745 - val_loss: 0.4075 - val_accuracy: 0.9126\n",
      "Epoch 44/50\n",
      "1000/1000 [==============================] - 121s 121ms/step - loss: 0.1040 - accuracy: 0.9723 - val_loss: 0.4025 - val_accuracy: 0.9117\n",
      "Epoch 45/50\n",
      "1000/1000 [==============================] - 123s 123ms/step - loss: 0.0888 - accuracy: 0.9756 - val_loss: 0.4335 - val_accuracy: 0.9211\n",
      "Epoch 46/50\n",
      "1000/1000 [==============================] - 123s 123ms/step - loss: 0.0937 - accuracy: 0.9736 - val_loss: 0.3361 - val_accuracy: 0.9278\n",
      "Epoch 47/50\n",
      "1000/1000 [==============================] - 123s 123ms/step - loss: 0.0982 - accuracy: 0.9737 - val_loss: 0.2835 - val_accuracy: 0.9322\n",
      "Epoch 48/50\n",
      "1000/1000 [==============================] - 124s 124ms/step - loss: 0.0951 - accuracy: 0.9742 - val_loss: 0.3510 - val_accuracy: 0.9252\n",
      "Epoch 49/50\n",
      "1000/1000 [==============================] - 123s 123ms/step - loss: 0.0953 - accuracy: 0.9753 - val_loss: 0.3000 - val_accuracy: 0.9243\n",
      "Epoch 50/50\n",
      "1000/1000 [==============================] - 124s 124ms/step - loss: 0.0954 - accuracy: 0.9758 - val_loss: 0.3492 - val_accuracy: 0.9146\n"
     ]
    }
   ],
   "source": [
    "H = classifier.fit(x = training_data, epochs = 50, validation_data = valid_data, steps_per_epoch = 1000)"
   ]
  },
  {
   "cell_type": "code",
   "execution_count": 19,
   "metadata": {},
   "outputs": [
    {
     "data": {
      "image/png": "[encoded data removed]",
      "text/plain": [
       "<Figure size 864x576 with 1 Axes>"
      ]
     },
     "metadata": {
      "needs_background": "light"
     },
     "output_type": "display_data"
    }
   ],
   "source": [
    "plt.figure(figsize = (12, 8))\n",
    "plt.plot(H.history['accuracy'], c = 'red', label=\"train_accuracy\")\n",
    "plt.plot(H.history['loss'], c = 'black', label = 'train_loss')\n",
    "plt.plot(H.history['val_accuracy'], c = 'blue', label = 'validation_accuracy')\n",
    "plt.plot(H.history['val_loss'], c = 'gray', label = 'validation_loss')\n",
    "plt.xlabel('epochs')\n",
    "plt.ylabel('loss/accuracy')\n",
    "plt.title('Loss and Accuracy per epochs')\n",
    "plt.legend(loc = 'center right')\n",
    "plt.show()"
   ]
  },
  {
   "cell_type": "code",
   "execution_count": 21,
   "metadata": {},
   "outputs": [
    {
     "name": "stdout",
     "output_type": "stream",
     "text": [
      "432/432 [==============================] - 15s 36ms/step - loss: 0.0949 - accuracy: 0.9751\n",
      "accuracy in test_set: 97.51 %\n"
     ]
    }
   ],
   "source": [
    "_, accuracy = classifier.evaluate(test_data)\n",
    "print('accuracy in test_set: %.2f' %(accuracy*100),'%')"
   ]
  },
  {
   "cell_type": "code",
   "execution_count": 22,
   "metadata": {},
   "outputs": [
    {
     "name": "stdout",
     "output_type": "stream",
     "text": [
      "{'character_10_yna': 0, 'character_11_taamatar': 1, 'character_12_thaa': 2, 'character_13_daa': 3, 'character_14_dhaa': 4, 'character_15_adna': 5, 'character_16_tabala': 6, 'character_17_tha': 7, 'character_18_da': 8, 'character_19_dha': 9, 'character_1_ka': 10, 'character_20_na': 11, 'character_21_pa': 12, 'character_22_pha': 13, 'character_23_ba': 14, 'character_24_bha': 15, 'character_25_ma': 16, 'character_26_yaw': 17, 'character_27_ra': 18, 'character_28_la': 19, 'character_29_waw': 20, 'character_2_kha': 21, 'character_30_motosaw': 22, 'character_31_petchiryakha': 23, 'character_32_patalosaw': 24, 'character_33_ha': 25, 'character_34_chhya': 26, 'character_35_tra': 27, 'character_36_gya': 28, 'character_3_ga': 29, 'character_4_gha': 30, 'character_5_kna': 31, 'character_6_cha': 32, 'character_7_chha': 33, 'character_8_ja': 34, 'character_9_jha': 35, 'digit_0': 36, 'digit_1': 37, 'digit_2': 38, 'digit_3': 39, 'digit_4': 40, 'digit_5': 41, 'digit_6': 42, 'digit_7': 43, 'digit_8': 44, 'digit_9': 45}\n"
     ]
    }
   ],
   "source": [
    "print(test_data.class_indices)"
   ]
  },
  {
   "cell_type": "markdown",
   "metadata": {},
   "source": [
    "## single prediction"
   ]
  },
  {
   "cell_type": "code",
   "execution_count": 23,
   "metadata": {},
   "outputs": [
    {
     "name": "stdout",
     "output_type": "stream",
     "text": [
      "character_1_ka\n"
     ]
    },
    {
     "data": {
      "image/png": "[encoded data removed]",
      "text/plain": [
       "<Figure size 432x288 with 1 Axes>"
      ]
     },
     "metadata": {
      "needs_background": "light"
     },
     "output_type": "display_data"
    }
   ],
   "source": [
    "import numpy as np\n",
    "from keras.preprocessing import image\n",
    "import matplotlib.pyplot as plt\n",
    "image1 = image.load_img(path='data/Test/character_1_ka/10967.png', target_size = (32, 32, 3))\n",
    "image = image.img_to_array(image1)\n",
    "image = np.expand_dims(image, axis = 0)\n",
    "result = classifier.predict(image)\n",
    "plt.imshow(image1)\n",
    "for i in range(0, 46):\n",
    "    if (result[0][i] == 1):\n",
    "        print(list(training_data.class_indices.keys())[i])\n",
    "        break"
   ]
  },
  {
   "cell_type": "code",
   "execution_count": 24,
   "metadata": {},
   "outputs": [
    {
     "name": "stdout",
     "output_type": "stream",
     "text": [
      "character_24_bha\n"
     ]
    },
    {
     "data": {
      "image/png": "[encoded data removed]",
      "text/plain": [
       "<Figure size 432x288 with 1 Axes>"
      ]
     },
     "metadata": {
      "needs_background": "light"
     },
     "output_type": "display_data"
    }
   ],
   "source": [
    "import numpy as np\n",
    "from keras.preprocessing import image\n",
    "import matplotlib.pyplot as plt\n",
    "image1 = image.load_img(path='data/Test/character_24_bha/61479.png', target_size = (32, 32, 3))\n",
    "image = image.img_to_array(image1)\n",
    "image = np.expand_dims(image, axis = 0)\n",
    "result = classifier.predict(image)\n",
    "plt.imshow(image1)\n",
    "for i in range(0, 46):\n",
    "    if (result[0][i] == 1):\n",
    "        print(list(training_data.class_indices.keys())[i])\n",
    "        break"
   ]
  },
  {
   "cell_type": "code",
   "execution_count": 25,
   "metadata": {},
   "outputs": [
    {
     "name": "stdout",
     "output_type": "stream",
     "text": [
      "character_4_gha\n"
     ]
    },
    {
     "data": {
      "image/png": "[encoded data removed]",
      "text/plain": [
       "<Figure size 432x288 with 1 Axes>"
      ]
     },
     "metadata": {
      "needs_background": "light"
     },
     "output_type": "display_data"
    }
   ],
   "source": [
    "import numpy as np\n",
    "from keras.preprocessing import image\n",
    "import matplotlib.pyplot as plt\n",
    "image1 = image.load_img(path='data/Test/character_4_gha/9197.png', target_size = (32, 32, 3))\n",
    "image = image.img_to_array(image1)\n",
    "image = np.expand_dims(image, axis = 0)\n",
    "result = classifier.predict(image)\n",
    "plt.imshow(image1)\n",
    "for i in range(0, 46):\n",
    "    if (result[0][i] == 1):\n",
    "        print(list(training_data.class_indices.keys())[i])\n",
    "        break"
   ]
  }
 ],
 "metadata": {
  "kernelspec": {
   "display_name": "Python 3",
   "language": "python",
   "name": "python3"
  },
  "language_info": {
   "codemirror_mode": {
    "name": "ipython",
    "version": 3
   },
   "file_extension": ".py",
   "mimetype": "text/x-python",
   "name": "python",
   "nbconvert_exporter": "python",
   "pygments_lexer": "ipython3",
   "version": "3.8.10"
  }
 },
 "nbformat": 4,
 "nbformat_minor": 4
}
